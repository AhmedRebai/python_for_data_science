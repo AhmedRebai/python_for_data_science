{
 "cells": [
  {
   "cell_type": "markdown",
   "metadata": {},
   "source": [
    "# Régression linéaire avec Python\n",
    "\n",
    "\n",
    "## Modélisation des données\n",
    "\n",
    "### Introduction \n",
    "\n",
    "Étant donné un ensemble d'observations (des données \"data\"), on veut souvent condenser et résumer les données en l'adaptant à un modèle qui dépend de paramètres ajustables. Parfois, le modèle est simplement une fonction usuelle (un polynôme, une gaussienne...), et l'ajustement fournit les coefficients appropriés.\n",
    "\n",
    "\n",
    "Une approche très générale a le paradigme suivant: on choisit ou on conçoit une fonction objectif (une fonction coût, on dit aussi une fonction de mérite) qui mesure l'accord entre les données et le modèle avec un choix particulier de paramètres. \n",
    "\n",
    "\n",
    "En statistiques fréquentistes, la fonction objectif est classiquement organisée de telle sorte que les petites valeurs représentent un accord étroit avec les données. Les bayésiens choisissent comme fonction objectif la probabilité des paramètres sachant les données (ou souvent leur logarithme), de sorte que des grandes valeurs de cette probabilité représentent un accord plus étroit avec les données.\n",
    "\n",
    "\n",
    "- Dans les deux approches, les paramètres du modèle sont ensuite ajustés pour trouver un le meilleur extremum dans la fonction objectif, produisant les paramètres les mieux adaptés. Ainsi, le processus d'ajustement se formule sous la forme d'un problème d'optimisation (minimisation ou maximisation) en plusieurs dimensions.\n",
    "\n",
    "\n",
    "Notons bien que la détermination des meilleurs paramètres ne marque pas la fin du processus d'ajustement car il y a des questions importantes qui vont au-delà de cette détermination. Les données ne sont généralement pas exactes, elles sont sujets à des erreurs de mesure (appelées bruit comme dans le contexte du traitement du signal). Ainsi, les données typiques ne corrspondent jamais exactement au modèle utilisé, même si ce modèle est correct. Alors nous avons besoin de moyens pour évaluer si le modèle est approprié ou non, c'est-à-dire que nous devons tester la qualité de l'ajustement avec les tests statistiques. Il est alors nécessaire de connaître la précision des paramètres déterminés à partir des données. \n",
    "\n",
    "Les fréquentistes cherchent à connaître les erreurs sur les paramètres optimaux. Les Bayésiens veulent trouver non seulement le maximum de la distribution de probabilités des paramètres mais aussi la distribution complète.\n",
    "\n",
    "\n",
    "### Approche fréquentiste ou approche bayésienne\n",
    "\n",
    "D'une manière générale, l'observation expérimentale consiste à collecter des données pour tester la validité d'une théorie ou d'une hypothèse qui se basent sur un modèle analytique dépendant de plusieurs paramètres. Pour ce faire, un estimateur est construit qui mesure l'accord entre les données et le modèle. \n",
    "\n",
    "L'approche est dénomée 'fréquentiste' si cet estimateur est construit de telle façon que son minimum global représente l'accord parfait, c'est-à-dire la solution recherchée avec une certaine erreur. Elle est nommée 'bayésienne' si l'estimateur représente une probabilité des paramètres pour lesquels son maximum global représente l'accord parfait, c'est-à-dire la solution avec une certaine probabilité. Par exemple, ces paramètres peuvent servir à extrapoler des mesures expérimentales dans un intervalle d'une grandeur statistique. \n",
    "\n",
    "\n",
    "Dans l'approche fréquentiste, la détermination d'un paramètre estimé $\\alpha$ fait appel à la probabilité $p(X|\\alpha)$ d'observer la mesure X pour une valeur de $\\alpha$ donnée. Cette probabilité correspond à la fréquence d'occurrence de la mesure X si l'on répète l'expérience un grand nombre de fois. On définit alors la fonction du maximum de vraisemblance (likelihood) comme le produit des probabilités associées à chacune des expériences: \n",
    "\n",
    "$$ L(\\alpha) = \\Pi_{i=1}^N p(X_i|\\alpha) $$ \n",
    "\n",
    "avec $p(X_i|\\alpha)$ la fonction densité de probabilité de la mesure $X_i$ pour un $\\alpha$. Quantitativement, on suppose que chaque mesure $X_i$ est affectée par une erreur aléatoire et distribuée selon une distribution gaussienne autour de la vraie valeur Y(X) avec la déviation standard $\\sigma_i$ (l'erreur de ces distributions gaussiennes). La fonction du maximum de vraisemblance s'écrit alors:\n",
    "\n",
    "$$ L(\\alpha) = \\Pi_{i=1}^N exp(-\\frac{1}{2}.(\\frac{Y_i - Y(X_i)}{\\sigma_i})^2).dY$$\n",
    "\n",
    "Finalement, le paramètre est estimé d'une manière qui assure sa valeur dans un intervalle de confiance qui représente conventionnellement 95% des cas possibles (ou d'autres valeurs comme 68%, 99.7%, etc.). Cette approche nécessite de construire des modèles paramétriques comme les distributions normales, de student ou de $\\chi^2$.\n",
    "\n",
    "\n",
    "L'approche Bayésienne considère le paramètre $\\alpha$ comme une variable aléatoire à laquelle on peut associer une fonction densité de probabilité $p(\\alpha|X)$, et que l'on peut contraindre grâce à la mesure X en utilisant le théorème de Bayes stipulant que \n",
    "\n",
    "$$ p(\\alpha| X) = \\frac{p(X|\\alpha).p(\\alpha)}{p(X)}$$ \n",
    "\n",
    "Le terme $p(\\alpha)$ est la densité de probabilité de $\\alpha$ à priori, aussi appelé 'prior'. Elle précède toute information sur X et doit être choisie arbitrairement. Dans ce cas, l'intervalle de confiance est construit suivant cette distribution. Cette approche considère l'inconnue comme un paramètre, le terme inconnu inclut par exemple l'information manquante ou les modèles non-identifiables et on s'intéresse à la vérification après l'identificationdes paramètres.\n",
    "\n",
    "\n",
    "- Dans la vie réelle, afin d'éviter l'introduction d'un prior arbitraire qui pourrait biaiser l'estimation des paramètres, on peut choisir l'approche fréquentiste.\n",
    "\n",
    "\n",
    "\n",
    "### Optimisation déterministe ou optimisation stochastique\n",
    "\n",
    "L'optimisation est une branche des mathématiques qui a pour but de trouver la meilleure solution possible d'un problème donné. Par exemple, en mécanique comme un système en mouvement tend toujours vers la position qui lui permet de consommer le moins d'énergie possible, les mécanismes cherchent toujours les meilleurs paramètres qui optimisent la performance de leurs machines. \n",
    "\n",
    "\n",
    "En finance, les investisseurs sur les marchés financiers cherchent à constituer des portefolios qui évitent les risques excessifs tout en garantissant un taux de rentablité élevé, etc. D'une manière générale le problème peut se traduire sous la forme suivante:\n",
    "\n",
    "\n",
    "\n",
    "- minimiser $f(x)$ soumis à $c_i(x) \\leq b_i,i = 1,...,m$\n",
    "\n",
    "\n",
    "\n",
    "où $x=(x_1,...,x_n)$ est un vecteur de paramètres du problème, la fonction $f:\\mathbb{R}^n \\rightarrow \\mathbb{R}$ est l'estimateur (appelée aussi fonction objectif), les fonctions $c_i:\\mathbb{R}^n \\rightarrow \\mathbb{R}, i = 1, ..., m$, sont les contraintes du problème, et les constantes $b_1, ..., b_m$ sont les limites, ou les bornes des contraintes. \n",
    "\n",
    "\n",
    "La solution du problème est le vecteur $x_s$ satisfaisant les inégalités suivantes:\n",
    "\n",
    "$$ \\forall z, c_1(z) \\leq b_1, ..., c_m(z) \\leq b_m, f(z) \\geq f(x_s) $$\n",
    "\n",
    "\n",
    "et est obtenue par la minimisation d'une fonction objectif d'une manière analytique.\n",
    "\n",
    "\n",
    "\n",
    "En optimisation déterministe, les grandeurs pertinentes sont les vecteurs des paramètres x. Par contre en optimisation stochastique, les grandeurs pertinentes sont des lois de probabilités; pour cela les algorithmes utilisent des informations a priori sur les paramètres inconnus du modèle pour produire la solution du problème. De point de vue pratique, on classe généralement la qualité des algorithmes d'optimisation en fonction de leurs propriétés, comme la robustesse (qui qualifie la capacité de l'algorithme à trouver la solution pour plusieurs classes de problèmes différents et ceci en fonction des valeurs initiales raisonnables), l'efficacité (qui qualifie les ressources nécessaires en temps d'exécution ou bien en mémoire vive), la précision (qui identifie la capacité à fournir et à identifier la solution avec précision en réduisant la sensibilité aux différentes types des erreurs).\n",
    "\n",
    "\n",
    "- Eu égard à la complexité de l'approche stochastique par rapport à celle déterministe et pour éviter l'introduction d'un prior arbitraire, le data-scientist peut choisir l'utilisation des algorithmes déterministes pendant le processus de minimisation de la fonction objectif.\n",
    "\n",
    "- Notons que c'est contre intuitif de dire que les méthodes stochastiques sont les plus efficaces pendant le processus de minimisation! Par exemple, l'algorithme du gradient stochastique.\n",
    "\n",
    "\n",
    "\n",
    "\n",
    "### Convexité d'une fonction\n",
    "\n",
    "\n",
    "Comme nous verrons de le voir, les algorithmes d'optimisation font appel à de nombreux outils de l'analyse mathématique. Dans ce cadre, l'analyse convexe occupe une place capitale car un théorème important et néanmoins intuitif énonce que si un minimum est local pour une fonction convexe, il est automatiquement global. \n",
    "\n",
    "\n",
    "\n",
    "### Problème bien posé, problème mal posé\n",
    "\n",
    "La classification de Hadamard 1902 : La classe de problèmes mal posés est identifiée pour la première fois par le mathématicien Jacques Hadamard en 1902 qui montre qu'un problème pour lequel une faible erreur arbitraire au niveau des conditions aux limites donne lieu à une grande erreur au niveau de la solution est un problème mal posé. Inversement, un problème de la physique mathématique est dit bien posé au sens d'Hadamard s'il satisfait aux 3 conditions suivantes:\n",
    "\n",
    "- 1 La solution existe (cette condition exprime la cohérence du modèle mathématique); \n",
    "\n",
    "- 2 La solution est unique (cette condition fait que sa situation réelle est bien définie);\n",
    "\n",
    "- 3 La solution est stable c'est-à-dire des faibles variations aléatoires des différents paramètres du problème comme les valeurs initiales, les conditions aux limites ou les coefficients du modèle n'induisent que des faibles variations de la solution.\n",
    "\n",
    "\n",
    "Par exemple, loin de la charge le potentiel électrique induit par une charge électrique ponctuelle ou par une distribution volumique de charges électriques est le même alors que la mesure de l'amplitude du potentiel ne donne aucune information sur la nature de la distribution des charges électriques. On dit que le problème est mal posé. \n",
    "\n",
    "\n",
    "Conditionnement d'un problème: L'une des techniques de diagnostic du caractère bien ou mal posé d'un problème d'optimisation est donnée par le calcul du conditionnement de la matrice hessienne. Ce calcul mesure l'effet des petites erreurs sur la solution du problème. Il est mis en évidence par une perturbation des données initiales. Dans le cas d'un problème bien posé, les erreurs sur les données induisent des erreurs du même ordre de grandeur sur la solution. Un problème bien posé conduit à une valeur faible du conditionnement (proche de 1). Un problème mal posé conduit à une valeur élevée de conditionnement (>>1). \n",
    "\n",
    "\n",
    "\n",
    "Le conditionnement est défini pour un système linéaire A.x = b avec A une matrice inversible comme (ici $\\lambda_{max}$ et $\\lambda_{min}$ sont respectivement la plus grande valeur propre de A et la plus petite valeur propre de A.\n",
    "\n",
    "$$cond(A) = \\frac{\\lambda_{max}}{\\lambda_{min}} = ||A||.||A^{-1}||$$\n",
    "\n",
    "la norme ||.|| étant choisie parmi:\n",
    "\n",
    "- la norme 1: \n",
    "\n",
    "$$||A||_1 = max_j \\sum_{i=1}^n |a_{ij}|$$\n",
    "\n",
    "- la norme 2 ($\\rho(A) = max|\\lambda_i|$):\n",
    "\n",
    "$$||A||_2 = \\sqrt{ \\rho(A^tA)}$$\n",
    "\n",
    "- la norme de Froebenius avec $a_{ij}$ sont les coefficients de la matrice A:\n",
    "\n",
    "$$||A||_{Froebenius} = \\sqrt{\\sum_{i,j} |a_{ij}|^2} $$\n",
    "\n",
    "- la norme $\\infty$ \n",
    "\n",
    "$$||A||_{\\infty} = max_i \\sum_{j=1}^n |a_{ij}|$$\n",
    "\n",
    "\n",
    "\n",
    "Pour être rigoureux, un critère théorique du caractère mal conditionné des problèmes est généralement utilisé : des valeurs très grandes de cond(A). Ajoutons, qu'un problème peut être mathématiquement bien posé mais numériquement mal posé si la précision des calculs est de l'ordre de $10^{-10}$ mais peut redevenir bien posé si la précision est de l'ordre de $10^{-20}$. La précision numérique agit donc aussi sur le caractère du problème.\n",
    "\n",
    "\n",
    "\n",
    "\n",
    "\n",
    "\n",
    "\n",
    "\n",
    "\n",
    "\n",
    "\n",
    "\n"
   ]
  },
  {
   "cell_type": "markdown",
   "metadata": {},
   "source": [
    "## Machine Learning en Python : Problème de régression\n",
    "\n",
    "### Applications métier de la régression\n",
    "\n",
    "- Analyses prédictives:\n",
    "\n",
    "L'analyse prédictive, c'est-à-dire la prévision des opportunités et des risques futurs, est l'application la plus importante de l'analyse de régression en entreprise. L'analyse de la demande, par exemple, prédit le nombre d'articles qu'un consommateur achètera probablement. Cependant, la demande n'est pas la seule variable dépendante en ce qui concerne les entreprises. L'analyse de régression peut aller bien au-delà de la prévision de l'impact sur les revenus directs. Par exemple, nous pouvons prévoir le nombre d'acheteurs qui passeront devant un panneau d'affichage particulier et utiliser ces données pour estimer le maximum pour enchérir pour une publicité. Les compagnies d'assurance s'appuient fortement sur une analyse de régression pour estimer la solvabilité des assurés et un nombre possible de sinistres au cours d'une période donnée.\n",
    "\n",
    "\n",
    "- Efficacité des opérations\n",
    "\n",
    "Les modèles de régression peuvent également être utilisés pour optimiser les processus métier. Un directeur d'usine, par exemple, peut créer un modèle statistique pour comprendre l'impact de la température du four sur la durée de conservation des biscuits cuits dans ces fours. Dans un centre d'appels, nous pouvons analyser la relation entre les temps d'attente des appelants et le nombre de plaintes. La prise de décision fondée sur les données élimine les conjectures, les hypothèses et la politique d'entreprise du processus de la prise de décision. Cela améliore la performance de l'entreprise en mettant en évidence les domaines qui ont le plus d'impact sur l'efficacité opérationnelle et les revenus.\n",
    "\n",
    "- Aide à la décision\n",
    "\n",
    "Les entreprises d'aujourd'hui sont surchargées de données sur les finances, les opérations et les achats des clients. De plus en plus, les dirigeants s'appuient désormais sur l'analyse de données pour prendre des décisions commerciales éclairées, éliminant ainsi l'intuition. L'analyse de régression peut apporter un angle scientifique à la gestion de toute entreprise. En réduisant l'énorme quantité de données brutes en informations exploitables, l'analyse de régression ouvre la voie à des décisions plus intelligentes et plus précises. Cela ne signifie pas que l'analyse de régression est la fin de la pensée créatrice des gestionnaires. Cette technique agit comme un outil parfait pour tester une hypothèse avant de plonger dans l’exécution.\n",
    "\n",
    "- Correction des erreurs:\n",
    "\n",
    "La régression est non seulement excellente pour prêter un soutien empirique aux décisions de gestion, mais également pour identifier les erreurs de jugement. Par exemple, un gérant de magasin de détail peut penser que la prolongation des heures d’achat augmentera considérablement les ventes. Une analyse de régression peut toutefois indiquer que l’augmentation des revenus pourrait ne pas suffire à soutenir la hausse des dépenses d’exploitation en raison de l’allongement des heures de travail (telles que les frais de main-d’œuvre supplémentaires). Par conséquent, l'analyse de régression peut fournir un support quantitatif pour les décisions et éviter les erreurs dues aux intuitions du gestionnaire.\n",
    "\n",
    "- Nouvelles idées\n",
    "\n",
    "Au fil du temps, les entreprises peuvent collecter un volume important de données non organisées susceptibles de fournir des informations précieuses. Cependant, ces données sont inutiles sans une analyse appropriée. Les techniques d'analyse de régression peuvent trouver une relation entre différentes variables en découvrant des modèles qui étaient auparavant inaperçus. Par exemple, l'analyse des données provenant des systèmes de points de vente et des comptes d'achat peut mettre en évidence des tendances du marché, telles que l'augmentation de la demande pendant certains jours de la semaine ou à certains moments de l'année. Les décideurs en entreprise peuvent conserver leurs stocks optimaux ou des ressources humaines optimales avant que la demande ne s’amplifie en reconnaissant ces informations.\n",
    "\n",
    "\n",
    "### Modélisation de données et Ajustement linéaire (Data Modeling and Linear Fitting)\n",
    "\n",
    "\n",
    "#### Estimateur des moindres carrés (modèle linéaire sans erreurs)\n",
    "\n",
    "Cet estimateur de a et b minimisent la somme des carrés des distances verticales entre les valeurs mesurées (ou expérimentales) de y et les valeurs prédites (avec le modèle linéaire $y = a + b * x$) des valeurs de y:\n",
    "\n",
    "- Il s'agit de l'estimateur le plus simple dans le domaine de la régression linéaire, il est donné par la formule suivante:\n",
    "\n",
    "$$ F(a,b) = \\sum_{i=1}^n (y_i - (a+b*x_i))^2 $$\n",
    "\n",
    "On dit aussi que la fonction $F(a,b)$ est une fonction de $\\chi^2$ (et on lit chi 2).\n",
    "\n",
    "Etant donné que l'estimateur est linéaire en a et b, on peut alors effectuer la minimisation analytiquement (avec le calcul). Ainsi, a et b sont donnés par les formules suivantes:\n",
    "\n",
    "$$ \\hat{a} = \\frac{\\sum_{i=1}^n y_i}{n} - \\hat{b} * \\frac{\\sum_{i=1}^n y_i}{n}  = \\bar{y} - \\hat{b} * \\bar{x}$$\n",
    "\n",
    "\n",
    "$$ \\hat{b} = \\frac{\\sum_{i=1}^n y_i * (x_i - \\bar{x})}{\\sum_{i=1}^n (x_i - \\bar{x})^2}$$\n",
    "\n",
    "* Implémentation en python du calcul analytique:"
   ]
  },
  {
   "cell_type": "code",
   "execution_count": 2,
   "metadata": {},
   "outputs": [],
   "source": [
    "\"\"\"\n",
    "Version 1\n",
    "La fonction moy prend comme argument d'entrée une liste L\n",
    "On initialise une variable s (pour somme) à 0\n",
    "Avec une boucle for on parcourt la liste L et on calcule\n",
    "sa somme.\n",
    "Enfin, on divise s par n pour obtenir la valeur moyenne\n",
    "\"\"\"\n",
    "\n",
    "\n",
    "def moy1(L):\n",
    "    s = 0\n",
    "    for i in range(0,len(L)):\n",
    "        s = s + L[i]\n",
    "    return s/len(L)"
   ]
  },
  {
   "cell_type": "code",
   "execution_count": 3,
   "metadata": {},
   "outputs": [],
   "source": [
    "\"\"\"\n",
    "Version 2\n",
    "On utilise la fonction sum pour calculer\n",
    "la somme de la liste, puis on divise par\n",
    "la longueur de cette liste i.e le nombre\n",
    "des éléments de cette liste\n",
    "\"\"\"\n",
    "def moy2(L):\n",
    "    s = sum(L)\n",
    "    return s/len(L)"
   ]
  },
  {
   "cell_type": "code",
   "execution_count": 4,
   "metadata": {},
   "outputs": [
    {
     "data": {
      "text/plain": [
       "333332833333.50006"
      ]
     },
     "execution_count": 4,
     "metadata": {},
     "output_type": "execute_result"
    }
   ],
   "source": [
    "\"\"\"\n",
    "Version 3\n",
    "il suffit d'appeler la fonction mean\n",
    "du module numpy\n",
    "comme suit\n",
    "\"\"\"\n",
    "L = [i**2 for i in range(1000000)] # définition de la liste\n",
    "import numpy as np # chargement du module\n",
    "np.mean(L) # calcul de la moyenne"
   ]
  },
  {
   "cell_type": "code",
   "execution_count": 5,
   "metadata": {},
   "outputs": [
    {
     "name": "stdout",
     "output_type": "stream",
     "text": [
      "742 µs ± 5.06 µs per loop (mean ± std. dev. of 7 runs, 1000 loops each)\n"
     ]
    }
   ],
   "source": [
    "# Etude de performance (complexité temporelle):\n",
    "\n",
    "N = 10000\n",
    "L = [i**2 for i in range(N)]\n",
    "\n",
    "%timeit moy1(L)"
   ]
  },
  {
   "cell_type": "code",
   "execution_count": 6,
   "metadata": {},
   "outputs": [
    {
     "name": "stdout",
     "output_type": "stream",
     "text": [
      "71.4 µs ± 1.34 µs per loop (mean ± std. dev. of 7 runs, 10000 loops each)\n"
     ]
    }
   ],
   "source": [
    "%timeit moy2(L)"
   ]
  },
  {
   "cell_type": "code",
   "execution_count": 7,
   "metadata": {},
   "outputs": [
    {
     "name": "stdout",
     "output_type": "stream",
     "text": [
      "668 µs ± 20.1 µs per loop (mean ± std. dev. of 7 runs, 1000 loops each)\n"
     ]
    }
   ],
   "source": [
    "%timeit np.mean(L)"
   ]
  },
  {
   "cell_type": "code",
   "execution_count": 9,
   "metadata": {},
   "outputs": [
    {
     "name": "stdout",
     "output_type": "stream",
     "text": [
      "23.7 µs ± 1.81 µs per loop (mean ± std. dev. of 7 runs, 10000 loops each)\n"
     ]
    }
   ],
   "source": [
    "L = np.array(L)\n",
    "%timeit np.mean(L)"
   ]
  },
  {
   "cell_type": "code",
   "execution_count": 10,
   "metadata": {},
   "outputs": [
    {
     "data": {
      "text/plain": [
       "numpy.ndarray"
      ]
     },
     "execution_count": 10,
     "metadata": {},
     "output_type": "execute_result"
    }
   ],
   "source": [
    "type(L)"
   ]
  },
  {
   "cell_type": "code",
   "execution_count": 6,
   "metadata": {},
   "outputs": [],
   "source": [
    "# la fonction Bchap pour calculer b chapeau\n",
    "\n",
    "def Bchap(x,y):\n",
    "    \"\"\"\n",
    "    Cette fonction prend à l'entrée deux\n",
    "    listes x et y.\n",
    "    On calcule la moyenne de x\n",
    "    Puis b chapeau\n",
    "    \"\"\"\n",
    "    xb = moy1(x)\n",
    "    num = 0\n",
    "    den = 0\n",
    "    for i in range(0,len(x)):\n",
    "        num = num + y[i]*(x[i] - xb)\n",
    "        deb = den + (x[i] - xb)**2\n",
    "    return num/den"
   ]
  },
  {
   "cell_type": "code",
   "execution_count": null,
   "metadata": {},
   "outputs": [],
   "source": []
  },
  {
   "cell_type": "code",
   "execution_count": 5,
   "metadata": {},
   "outputs": [],
   "source": [
    "def Achap(x,y):\n",
    "    \"\"\"\n",
    "    Cette fonction utilise les deux listes\n",
    "    x et y pour calculer a\n",
    "    \"\"\"\n",
    "    return moy1(y) - Bchap(x,y)*moy1(x)"
   ]
  },
  {
   "cell_type": "code",
   "execution_count": 9,
   "metadata": {},
   "outputs": [
    {
     "name": "stdout",
     "output_type": "stream",
     "text": [
      "Help on function Achap in module __main__:\n",
      "\n",
      "Achap(x, y)\n",
      "    Cette fonction utilise les deux listes\n",
      "    x et y pour calculer a\n",
      "\n"
     ]
    }
   ],
   "source": [
    "help(Achap) # utilisation des commentaires intelligents"
   ]
  },
  {
   "cell_type": "code",
   "execution_count": 14,
   "metadata": {},
   "outputs": [
    {
     "name": "stdout",
     "output_type": "stream",
     "text": [
      "The line_profiler extension is already loaded. To reload it, use:\n",
      "  %reload_ext line_profiler\n"
     ]
    },
    {
     "name": "stderr",
     "output_type": "stream",
     "text": [
      "/home/ahmed/anaconda3/lib/python3.6/site-packages/ipykernel_launcher.py:16: RuntimeWarning: divide by zero encountered in double_scalars\n",
      "  app.launch_new_instance()\n"
     ]
    },
    {
     "data": {
      "text/plain": [
       "Timer unit: 1e-06 s\n",
       "\n",
       "Total time: 0.00017 s\n",
       "File: <ipython-input-6-bf166e6f4201>\n",
       "Function: Bchap at line 3\n",
       "\n",
       "Line #      Hits         Time  Per Hit   % Time  Line Contents\n",
       "==============================================================\n",
       "     3                                           def Bchap(x,y):\n",
       "     4                                               \"\"\"\n",
       "     5                                               Cette fonction prend à l'entrée deux\n",
       "     6                                               listes x et y.\n",
       "     7                                               On calcule la moyenne de x\n",
       "     8                                               Puis b chapeau\n",
       "     9                                               \"\"\"\n",
       "    10         1         22.0     22.0     12.9      xb = moy1(x)\n",
       "    11         1          1.0      1.0      0.6      num = 0\n",
       "    12         1          1.0      1.0      0.6      den = 0\n",
       "    13         7          9.0      1.3      5.3      for i in range(0,len(x)):\n",
       "    14         6         68.0     11.3     40.0          num = num + y[i]*(x[i] - xb)\n",
       "    15         6         53.0      8.8     31.2          deb = den + (x[i] - xb)**2\n",
       "    16         1         16.0     16.0      9.4      return num/den"
      ]
     },
     "metadata": {},
     "output_type": "display_data"
    }
   ],
   "source": [
    "%load_ext line_profiler\n",
    "%lprun -f Achap Achap(x,y)\n",
    "%lprun -f Bchap Bchap(x,y)"
   ]
  },
  {
   "cell_type": "markdown",
   "metadata": {},
   "source": [
    "## Régression linéaire avec plusieurs méthoes\n",
    "\n",
    "    - Scipy.Polyfit\n",
    "    - Stats.linregress\n",
    "    - Optimize.curve_fit\n",
    "    - numpy.linalg.lstsq\n",
    "    - statsmodels.OLS\n",
    "    - Solution analytique avec Moore-Penrose generalized inverse ou simple multiplicative matrix inverse\n",
    "    - sklearn.linear_model.LinearRegression\n",
    "    \n",
    "### Avec scipy.polyfit"
   ]
  },
  {
   "cell_type": "code",
   "execution_count": 1,
   "metadata": {},
   "outputs": [
    {
     "name": "stdout",
     "output_type": "stream",
     "text": [
      "[0 1 2 3 4 5]\n",
      "[ 0.   0.8  0.9  0.1 -0.8 -1. ]\n"
     ]
    }
   ],
   "source": [
    "import numpy as np\n",
    "\n",
    "x = np.array([0,1,2,3,4,5])\n",
    "y = np.array([0,0.8,0.9, 0.1,-0.8,-1])\n",
    "\n",
    "print(x)\n",
    "print(y)"
   ]
  },
  {
   "cell_type": "code",
   "execution_count": 11,
   "metadata": {},
   "outputs": [
    {
     "name": "stdout",
     "output_type": "stream",
     "text": [
      "[-0.30285714  0.75714286]\n"
     ]
    }
   ],
   "source": [
    "import scipy.interpolate as spinter\n",
    "\n",
    "p1 = np.polyfit(x,y,1)\n",
    "print(p1)"
   ]
  },
  {
   "cell_type": "code",
   "execution_count": 12,
   "metadata": {},
   "outputs": [
    {
     "data": {
      "text/plain": [
       "[<matplotlib.lines.Line2D at 0x7fd97629c6a0>]"
      ]
     },
     "execution_count": 12,
     "metadata": {},
     "output_type": "execute_result"
    }
   ],
   "source": [
    "import matplotlib.pyplot as plt\n",
    "\n",
    "plt.plot(x,y,'o')\n",
    "plt.plot(x,np.polyval(p1,x),'r-')"
   ]
  },
  {
   "cell_type": "code",
   "execution_count": 13,
   "metadata": {},
   "outputs": [
    {
     "data": {
      "text/plain": [
       "[<matplotlib.lines.Line2D at 0x7fd96701c828>]"
      ]
     },
     "execution_count": 13,
     "metadata": {},
     "output_type": "execute_result"
    },
    {
     "data": {
      "image/png": "[encoded data removed]",
      "text/plain": [
       "<matplotlib.figure.Figure at 0x7fd96709e908>"
      ]
     },
     "metadata": {},
     "output_type": "display_data"
    }
   ],
   "source": [
    "p2 = np.polyfit(x,y,2) # ordre 2\n",
    "p3 = np.polyfit(x,y,3) # ordre 3\n",
    "xp = np.linspace(-2,6,100)\n",
    "plt.plot(x,y,'o')\n",
    "plt.plot(xp,np.polyval(p1,xp),'r-')\n",
    "plt.plot(xp,np.polyval(p2,xp),'k--')\n",
    "plt.plot(xp,np.polyval(p3,xp),'b--')"
   ]
  },
  {
   "cell_type": "code",
   "execution_count": 14,
   "metadata": {},
   "outputs": [
    {
     "name": "stdout",
     "output_type": "stream",
     "text": [
      "[ 0.75714286  0.45428571  0.15142857 -0.15142857 -0.45428571 -0.75714286]\n",
      "[ 0.   0.8  0.9  0.1 -0.8 -1. ]\n",
      "0.5177880184331798\n",
      "0.5177880184331796\n",
      "0.10693129655435198\n"
     ]
    }
   ],
   "source": [
    "#Goodness of fit stuy\n",
    "#Etude d'adéquation d'ajustement\n",
    "\n",
    "yfit = p1[0]*x + p1[1]\n",
    "\n",
    "print(yfit)\n",
    "print(y)\n",
    "\n",
    "yresid = y - yfit\n",
    "\n",
    "SSresid = sum(pow(yresid, 2))\n",
    "SStotal = len(y) * np.var(y)\n",
    "\n",
    "rsq = 1 - SSresid/SStotal\n",
    "\n",
    "print(rsq)\n",
    "\n",
    "import scipy.stats as spstats\n",
    "slope, intercept, r_value, p_value, std_err = spstats.linregress(x,y)\n",
    "print(pow(r_value,2))\n",
    "print(p_value)\n"
   ]
  },
  {
   "cell_type": "code",
   "execution_count": 36,
   "metadata": {},
   "outputs": [],
   "source": [
    "from scipy import linspace, polyval, polyfit, sqrt, stats, randn, optimize\n",
    "import statsmodels.api as sm\n",
    "import matplotlib.pyplot as plt\n",
    "import time\n",
    "import numpy as np\n",
    "from sklearn.linear_model import LinearRegression\n",
    "import pandas as pd\n",
    "%matplotlib inline #uniquement pour jupyternotbook"
   ]
  },
  {
   "cell_type": "code",
   "execution_count": 16,
   "metadata": {},
   "outputs": [],
   "source": [
    "# Generate random data of a sufficiently large size\n",
    "#Sample data creation\n",
    "#number of points \n",
    "n=int(5e6)\n",
    "t=np.linspace(-10,10,n)\n",
    "#parameters\n",
    "a=3.25; b=-6.5\n",
    "x=polyval([a,b],t)\n",
    "#add some noise\n",
    "xn=x+3*randn(n)"
   ]
  },
  {
   "cell_type": "code",
   "execution_count": 17,
   "metadata": {},
   "outputs": [
    {
     "data": {
      "image/png": "[encoded data removed]",
      "text/plain": [
       "<matplotlib.figure.Figure at 0x7fd95c5687b8>"
      ]
     },
     "metadata": {},
     "output_type": "display_data"
    }
   ],
   "source": [
    "# Draw few random sample points and plot\n",
    "\n",
    "xvar=np.random.choice(t,size=20)\n",
    "yvar=polyval([a,b],xvar)+3*randn(20)\n",
    "plt.scatter(xvar,yvar,c='green',edgecolors='k')\n",
    "plt.grid(True)\n",
    "plt.show()"
   ]
  },
  {
   "cell_type": "code",
   "execution_count": 41,
   "metadata": {},
   "outputs": [
    {
     "data": {
      "text/plain": [
       "numpy.ndarray"
      ]
     },
     "execution_count": 41,
     "metadata": {},
     "output_type": "execute_result"
    }
   ],
   "source": [
    "n=int(5e6)\n",
    "t=np.linspace(-10,10,n)\n",
    "xvar=np.random.choice(t,size=20)\n",
    "type(xvar)"
   ]
  },
  {
   "cell_type": "code",
   "execution_count": 18,
   "metadata": {},
   "outputs": [
    {
     "name": "stdout",
     "output_type": "stream",
     "text": [
      "Linear regression using polyfit\n",
      "parameters: a=3.25 b=-6.50, ms error= 2.999\n",
      "Time taken: 1.1187751293182373 seconds\n"
     ]
    }
   ],
   "source": [
    "# First Method: Scipy.Polyfit\n",
    "\n",
    "\n",
    "#Linear regressison -polyfit - polyfit can be used other orders polynomials\n",
    "t1=time.time()\n",
    "(ar,br)=polyfit(t,xn,1)\n",
    "xr=polyval([ar,br],t)\n",
    "#compute the mean square error\n",
    "err=sqrt(sum((xr-xn)**2)/n)\n",
    "t2=time.time()\n",
    "t_polyfit = float(t2-t1)\n",
    "\n",
    "print('Linear regression using polyfit')\n",
    "print('parameters: a=%.2f b=%.2f, ms error= %.3f' % (ar,br,err))\n",
    "print(\"Time taken: {} seconds\".format(t_polyfit))"
   ]
  },
  {
   "cell_type": "code",
   "execution_count": 19,
   "metadata": {},
   "outputs": [
    {
     "name": "stdout",
     "output_type": "stream",
     "text": [
      "Linear regression using stats.linregress\n",
      "a=3.25 b=-6.50, std error= 0.000, r^2 coefficient= 0.987\n",
      "Time taken: 0.07953953742980957 seconds\n"
     ]
    }
   ],
   "source": [
    "# Second Method Stats.linregress\n",
    "\n",
    "#Linear regression using stats.linregress\n",
    "t1=time.time()\n",
    "(a_s,b_s,r,tt,stderr)=stats.linregress(t,xn)\n",
    "t2=time.time()\n",
    "t_linregress = float(t2-t1)\n",
    "\n",
    "print('Linear regression using stats.linregress')\n",
    "print('a=%.2f b=%.2f, std error= %.3f, r^2 coefficient= %.3f' % (a_s,b_s,stderr,r))\n",
    "print(\"Time taken: {} seconds\".format(t_linregress))"
   ]
  },
  {
   "cell_type": "code",
   "execution_count": 20,
   "metadata": {},
   "outputs": [
    {
     "name": "stdout",
     "output_type": "stream",
     "text": [
      "Linear regression using optimize.curve_fit\n",
      "parameters: a=3.25 b=-6.50\n",
      "Time taken: 0.6541647911071777 seconds\n"
     ]
    }
   ],
   "source": [
    "# Third Method: Optimize.curve_fit\n",
    "\n",
    "def flin(t,a,b):\n",
    "    result = a*t+b\n",
    "    return(result)\n",
    "\n",
    "t1=time.time()\n",
    "p1,_=optimize.curve_fit(flin,xdata=t,ydata=xn,method='lm')\n",
    "t2=time.time()\n",
    "t_optimize_curve_fit = float(t2-t1)\n",
    "\n",
    "print('Linear regression using optimize.curve_fit')\n",
    "print('parameters: a=%.2f b=%.2f' % (p1[0],p1[1]))\n",
    "print(\"Time taken: {} seconds\".format(t_optimize_curve_fit))"
   ]
  },
  {
   "cell_type": "code",
   "execution_count": 21,
   "metadata": {},
   "outputs": [
    {
     "name": "stdout",
     "output_type": "stream",
     "text": [
      "Linear regression using numpy.linalg.lstsq\n",
      "parameters: a=3.25 b=-6.50, ms error= 2.999\n",
      "Time taken: 0.1452951431274414 seconds\n"
     ]
    },
    {
     "name": "stderr",
     "output_type": "stream",
     "text": [
      "/home/ahmed/anaconda3/lib/python3.6/site-packages/ipykernel_launcher.py:5: FutureWarning: `rcond` parameter will change to the default of machine precision times ``max(M, N)`` where M and N are the input matrix dimensions.\n",
      "To use the future default and silence this warning we advise to pass `rcond=None`, to keep using the old, explicitly pass `rcond=-1`.\n",
      "  \"\"\"\n"
     ]
    }
   ],
   "source": [
    "# Fourth Method: numpy.linalg.lstsq\n",
    "\n",
    "t1=time.time()\n",
    "A = np.vstack([t, np.ones(len(t))]).T\n",
    "result = np.linalg.lstsq(A, xn)\n",
    "ar,br = result[0]\n",
    "err = np.sqrt(result[1]/len(xn))\n",
    "t2=time.time()\n",
    "t_linalg_lstsq = float(t2-t1)\n",
    "\n",
    "print('Linear regression using numpy.linalg.lstsq')\n",
    "print('parameters: a=%.2f b=%.2f, ms error= %.3f' % (ar,br,err))\n",
    "print(\"Time taken: {} seconds\".format(t_linalg_lstsq))"
   ]
  },
  {
   "cell_type": "code",
   "execution_count": 22,
   "metadata": {},
   "outputs": [
    {
     "name": "stdout",
     "output_type": "stream",
     "text": [
      "Linear regression using statsmodels.OLS\n",
      "parameters: a=3.25 b=-6.50\n",
      "Time taken: 0.6416816711425781 seconds\n"
     ]
    }
   ],
   "source": [
    "# Fifth Method Statsmodels.OLS\n",
    "\n",
    "t1=time.time()\n",
    "t=sm.add_constant(t)\n",
    "model = sm.OLS(x, t)\n",
    "results = model.fit()\n",
    "ar=results.params[1]\n",
    "br=results.params[0]\n",
    "t2=time.time()\n",
    "t_OLS = float(t2-t1)\n",
    "\n",
    "print('Linear regression using statsmodels.OLS')\n",
    "print('parameters: a=%.2f b=%.2f'% (ar,br))\n",
    "print(\"Time taken: {} seconds\".format(t_OLS))\n"
   ]
  },
  {
   "cell_type": "code",
   "execution_count": 23,
   "metadata": {},
   "outputs": [
    {
     "name": "stdout",
     "output_type": "stream",
     "text": [
      "                            OLS Regression Results                            \n",
      "==============================================================================\n",
      "Dep. Variable:                      y   R-squared:                       1.000\n",
      "Model:                            OLS   Adj. R-squared:                  1.000\n",
      "Method:                 Least Squares   F-statistic:                 2.315e+35\n",
      "Date:                Wed, 26 Sep 2018   Prob (F-statistic):               0.00\n",
      "Time:                        18:33:39   Log-Likelihood:             1.4326e+08\n",
      "No. Observations:             5000000   AIC:                        -2.865e+08\n",
      "Df Residuals:                 4999998   BIC:                        -2.865e+08\n",
      "Df Model:                           1                                         \n",
      "Covariance Type:            nonrobust                                         \n",
      "==============================================================================\n",
      "                 coef    std err          t      P>|t|      [0.025      0.975]\n",
      "------------------------------------------------------------------------------\n",
      "const         -6.5000    3.9e-17  -1.67e+17      0.000      -6.500      -6.500\n",
      "x1             3.2500   6.76e-18   4.81e+17      0.000       3.250       3.250\n",
      "==============================================================================\n",
      "Omnibus:                  4318069.280   Durbin-Watson:                   0.001\n",
      "Prob(Omnibus):                  0.000   Jarque-Bera (JB):           298472.233\n",
      "Skew:                           0.001   Prob(JB):                         0.00\n",
      "Kurtosis:                       1.803   Cond. No.                         5.77\n",
      "==============================================================================\n",
      "\n",
      "Warnings:\n",
      "[1] Standard Errors assume that the covariance matrix of the errors is correctly specified.\n"
     ]
    }
   ],
   "source": [
    "print(results.summary())"
   ]
  },
  {
   "cell_type": "code",
   "execution_count": 24,
   "metadata": {},
   "outputs": [
    {
     "name": "stdout",
     "output_type": "stream",
     "text": [
      "Linear regression using Moore-Penrose inverse\n",
      "parameters: a=3.25 b=-6.50\n",
      "Time taken: 0.2829911708831787 seconds\n"
     ]
    }
   ],
   "source": [
    "# Sixth Method Analytic solution using Moore-Penrose pseudoinverse\n",
    "\n",
    "t1=time.time()\n",
    "mpinv = np.linalg.pinv(t)\n",
    "result = mpinv.dot(x)\n",
    "ar = result[1]\n",
    "br = result[0]\n",
    "t2=time.time()\n",
    "t_inv_matrix = float(t2-t1)\n",
    "\n",
    "print('Linear regression using Moore-Penrose inverse')\n",
    "print('parameters: a=%.2f b=%.2f'% (ar,br))\n",
    "print(\"Time taken: {} seconds\".format(t_inv_matrix))"
   ]
  },
  {
   "cell_type": "code",
   "execution_count": 25,
   "metadata": {},
   "outputs": [
    {
     "name": "stdout",
     "output_type": "stream",
     "text": [
      "Linear regression using simple inverse\n",
      "parameters: a=3.25 b=-6.50\n",
      "Time taken: 0.09184598922729492 seconds\n"
     ]
    }
   ],
   "source": [
    "# Seventh Method Analytic solution using simple multiplicative matrix inverse\n",
    "\n",
    "t1=time.time()\n",
    "m = np.dot((np.dot(np.linalg.inv(np.dot(t.T,t)),t.T)),x)\n",
    "ar = m[1]\n",
    "br = m[0]\n",
    "t2=time.time()\n",
    "t_simple_inv = float(t2-t1)\n",
    "\n",
    "print('Linear regression using simple inverse')\n",
    "print('parameters: a=%.2f b=%.2f'% (ar,br))\n",
    "print(\"Time taken: {} seconds\".format(t_simple_inv))"
   ]
  },
  {
   "cell_type": "code",
   "execution_count": 26,
   "metadata": {},
   "outputs": [
    {
     "name": "stdout",
     "output_type": "stream",
     "text": [
      "Linear regression using sklearn.linear_model.LinearRegression\n",
      "parameters: a=3.25 b=-6.50\n",
      "Time taken: 0.3832406997680664 seconds\n"
     ]
    }
   ],
   "source": [
    "# Eighth Method: sklearn.linear_model.LinearRegression\n",
    "\n",
    "t1=time.time()\n",
    "lm = LinearRegression()\n",
    "lm.fit(t,x)\n",
    "ar=lm.coef_[1]\n",
    "br=lm.intercept_\n",
    "t2=time.time()\n",
    "t_sklearn_linear = float(t2-t1)\n",
    "\n",
    "print('Linear regression using sklearn.linear_model.LinearRegression')\n",
    "print('parameters: a=%.2f b=%.2f'% (ar,br))\n",
    "print(\"Time taken: {} seconds\".format(t_sklearn_linear))"
   ]
  },
  {
   "cell_type": "code",
   "execution_count": 27,
   "metadata": {},
   "outputs": [
    {
     "name": "stderr",
     "output_type": "stream",
     "text": [
      "/home/ahmed/anaconda3/lib/python3.6/site-packages/matplotlib/__init__.py:1717: MatplotlibDeprecationWarning: The *left* kwarg to `bar` is deprecated use *x* instead. Support for *left* will be removed in Matplotlib 3.0\n",
      "  return func(ax, *args, **kwargs)\n"
     ]
    },
    {
     "data": {
      "image/png": "[encoded data removed]",
      "text/plain": [
       "<matplotlib.figure.Figure at 0x7fd95491bda0>"
      ]
     },
     "metadata": {},
     "output_type": "display_data"
    }
   ],
   "source": [
    "# Comparaison\n",
    "\n",
    "times = [t_polyfit,t_linregress,t_optimize_curve_fit,t_linalg_lstsq,t_OLS,\n",
    "         t_inv_matrix,t_simple_inv,t_sklearn_linear]\n",
    "\n",
    "\n",
    "plt.figure(figsize=(20,5))\n",
    "plt.grid(True)\n",
    "plt.bar(left=[l*0.8 for l in range(8)],height=times, width=0.4,\n",
    "        tick_label=['Polyfit','Stats.linregress','Optimize.curve_fit',\n",
    "                    'numpy.linalg.lstsq','statsmodels.OLS','Moore-Penrose matrix inverse',\n",
    "                    'Simple matrix inverse','sklearn.linear_model'])\n",
    "plt.show()"
   ]
  },
  {
   "cell_type": "code",
   "execution_count": 28,
   "metadata": {},
   "outputs": [],
   "source": [
    "n_min = 50000\n",
    "n_max = int(1e7)\n",
    "n_levels = 25\n",
    "r = np.log10(n_max/n_min)\n",
    "l = np.linspace(0,r,n_levels)\n",
    "n_data = list((n_min*np.power(10,l)))\n",
    "n_data = [int(n) for n in n_data]"
   ]
  },
  {
   "cell_type": "code",
   "execution_count": 11,
   "metadata": {},
   "outputs": [
    {
     "ename": "NameError",
     "evalue": "name 'n_data' is not defined",
     "output_type": "error",
     "traceback": [
      "\u001b[0;31m---------------------------------------------------------------------------\u001b[0m",
      "\u001b[0;31mNameError\u001b[0m                                 Traceback (most recent call last)",
      "\u001b[0;32m<ipython-input-11-9c384ad36038>\u001b[0m in \u001b[0;36m<module>\u001b[0;34m()\u001b[0m\n\u001b[1;32m      8\u001b[0m \u001b[0;32mfrom\u001b[0m \u001b[0mtqdm\u001b[0m \u001b[0;32mimport\u001b[0m \u001b[0mtqdm\u001b[0m\u001b[0;34m\u001b[0m\u001b[0m\n\u001b[1;32m      9\u001b[0m \u001b[0;34m\u001b[0m\u001b[0m\n\u001b[0;32m---> 10\u001b[0;31m \u001b[0;32mfor\u001b[0m \u001b[0mi\u001b[0m \u001b[0;32min\u001b[0m \u001b[0mtqdm\u001b[0m\u001b[0;34m(\u001b[0m\u001b[0mrange\u001b[0m\u001b[0;34m(\u001b[0m\u001b[0mlen\u001b[0m\u001b[0;34m(\u001b[0m\u001b[0mn_data\u001b[0m\u001b[0;34m)\u001b[0m\u001b[0;34m)\u001b[0m\u001b[0;34m)\u001b[0m\u001b[0;34m:\u001b[0m\u001b[0;34m\u001b[0m\u001b[0m\n\u001b[0m\u001b[1;32m     11\u001b[0m     \u001b[0mt\u001b[0m\u001b[0;34m=\u001b[0m\u001b[0mnp\u001b[0m\u001b[0;34m.\u001b[0m\u001b[0mlinspace\u001b[0m\u001b[0;34m(\u001b[0m\u001b[0;34m-\u001b[0m\u001b[0;36m10\u001b[0m\u001b[0;34m,\u001b[0m\u001b[0;36m10\u001b[0m\u001b[0;34m,\u001b[0m\u001b[0mn_data\u001b[0m\u001b[0;34m[\u001b[0m\u001b[0mi\u001b[0m\u001b[0;34m]\u001b[0m\u001b[0;34m)\u001b[0m\u001b[0;34m\u001b[0m\u001b[0m\n\u001b[1;32m     12\u001b[0m     \u001b[0;31m#parameters\u001b[0m\u001b[0;34m\u001b[0m\u001b[0;34m\u001b[0m\u001b[0m\n",
      "\u001b[0;31mNameError\u001b[0m: name 'n_data' is not defined"
     ]
    }
   ],
   "source": [
    "#time_dict={'Polyfit':[],'Stats.lingress':[],'Optimize.curve_fit':[],'linalg.lstsq':[],'statsmodels.OLS':[],\n",
    "          #'Moore-Penrose matrix inverse':[],'Simple matrix inverse':[], 'sklearn.linear_model':[]}\n",
    "\n",
    "l1=['Polyfit', 'Stats.lingress','Optimize.curve_fit', 'linalg.lstsq', \n",
    " 'statsmodels.OLS', 'Moore-Penrose matrix inverse', 'Simple matrix inverse', 'sklearn.linear_model']\n",
    "time_dict = {key:[] for key in l1}\n",
    "\n",
    "from tqdm import tqdm\n",
    "\n",
    "for i in tqdm(range(len(n_data))):\n",
    "    t=np.linspace(-10,10,n_data[i])\n",
    "    #parameters\n",
    "    a=3.25; b=-6.5\n",
    "    x=polyval([a,b],t)\n",
    "    #add some noise\n",
    "    xn=x+3*randn(n_data[i])\n",
    "    \n",
    "    #Linear regressison -polyfit - polyfit can be used other orders polynomials\n",
    "    t1=time.time()\n",
    "    (ar,br)=polyfit(t,xn,1)\n",
    "    t2=time.time()\n",
    "    t_polyfit = 1e3*float(t2-t1)\n",
    "    time_dict['Polyfit'].append(t_polyfit)\n",
    "    \n",
    "    #Linear regression using stats.linregress\n",
    "    t1=time.time()\n",
    "    (a_s,b_s,r,tt,stderr)=stats.linregress(t,xn)\n",
    "    t2=time.time()\n",
    "    t_linregress = 1e3*float(t2-t1)\n",
    "    time_dict['Stats.lingress'].append(t_linregress)\n",
    "    \n",
    "    #Linear regression using optimize.curve_fit\n",
    "    t1=time.time()\n",
    "    p1,_=optimize.curve_fit(flin,xdata=t,ydata=xn,method='lm')\n",
    "    t2=time.time()\n",
    "    t_optimize_curve_fit = 1e3*float(t2-t1)\n",
    "    time_dict['Optimize.curve_fit'].append(t_optimize_curve_fit)\n",
    "    \n",
    "    # Linear regression using np.linalg.lstsq (solving Ax=B equation system)\n",
    "    t1=time.time()\n",
    "    A = np.vstack([t, np.ones(len(t))]).T\n",
    "    result = np.linalg.lstsq(A, xn)\n",
    "    ar,br = result[0]\n",
    "    t2=time.time()\n",
    "    t_linalg_lstsq = 1e3*float(t2-t1)\n",
    "    time_dict['linalg.lstsq'].append(t_linalg_lstsq)\n",
    "    \n",
    "    # Linear regression using statsmodels.OLS\n",
    "    t1=time.time()\n",
    "    t=sm.add_constant(t)\n",
    "    model = sm.OLS(x, t)\n",
    "    results = model.fit()\n",
    "    ar=results.params[1]\n",
    "    br=results.params[0]\n",
    "    t2=time.time()\n",
    "    t_OLS = 1e3*float(t2-t1)\n",
    "    time_dict['statsmodels.OLS'].append(t_OLS)\n",
    "    \n",
    "    # Linear regression using Moore-Penrose pseudoinverse matrix\n",
    "    t1=time.time()\n",
    "    mpinv = np.linalg.pinv(t)\n",
    "    result = mpinv.dot(x)\n",
    "    ar = result[1]\n",
    "    br = result[0]\n",
    "    t2=time.time()\n",
    "    t_mpinverse = 1e3*float(t2-t1)\n",
    "    time_dict['Moore-Penrose matrix inverse'].append(t_mpinverse)\n",
    "    \n",
    "    # Linear regression using simple multiplicative inverse matrix\n",
    "    t1=time.time()\n",
    "    m = np.dot((np.dot(np.linalg.inv(np.dot(t.T,t)),t.T)),x)\n",
    "    ar = m[1]\n",
    "    br = m[0]\n",
    "    t2=time.time()\n",
    "    t_simple_inv = 1e3*float(t2-t1)\n",
    "    time_dict['Simple matrix inverse'].append(t_simple_inv)\n",
    "    \n",
    "    # Linear regression using scikit-learn's linear_model\n",
    "    t1=time.time()\n",
    "    lm = LinearRegression()\n",
    "    lm.fit(t,x)\n",
    "    ar=lm.coef_[1]\n",
    "    br=lm.intercept_\n",
    "    t2=time.time()\n",
    "    t_sklearn_linear = 1e3*float(t2-t1)\n",
    "    time_dict['sklearn.linear_model'].append(t_sklearn_linear)"
   ]
  },
  {
   "cell_type": "code",
   "execution_count": 30,
   "metadata": {},
   "outputs": [
    {
     "data": {
      "text/html": [
       "<div>\n",
       "<style scoped>\n",
       "    .dataframe tbody tr th:only-of-type {\n",
       "        vertical-align: middle;\n",
       "    }\n",
       "\n",
       "    .dataframe tbody tr th {\n",
       "        vertical-align: top;\n",
       "    }\n",
       "\n",
       "    .dataframe thead th {\n",
       "        text-align: right;\n",
       "    }\n",
       "</style>\n",
       "<table border=\"1\" class=\"dataframe\">\n",
       "  <thead>\n",
       "    <tr style=\"text-align: right;\">\n",
       "      <th></th>\n",
       "      <th>Moore-Penrose matrix inverse</th>\n",
       "      <th>Optimize.curve_fit</th>\n",
       "      <th>Polyfit</th>\n",
       "      <th>Simple matrix inverse</th>\n",
       "      <th>Stats.lingress</th>\n",
       "      <th>linalg.lstsq</th>\n",
       "      <th>sklearn.linear_model</th>\n",
       "      <th>statsmodels.OLS</th>\n",
       "    </tr>\n",
       "  </thead>\n",
       "  <tbody>\n",
       "    <tr>\n",
       "      <th>0</th>\n",
       "      <td>6.560087</td>\n",
       "      <td>7.441759</td>\n",
       "      <td>3.938913</td>\n",
       "      <td>0.763893</td>\n",
       "      <td>1.256466</td>\n",
       "      <td>2.277613</td>\n",
       "      <td>4.721880</td>\n",
       "      <td>8.647203</td>\n",
       "    </tr>\n",
       "    <tr>\n",
       "      <th>1</th>\n",
       "      <td>2.829552</td>\n",
       "      <td>9.070396</td>\n",
       "      <td>6.407022</td>\n",
       "      <td>0.836611</td>\n",
       "      <td>1.598358</td>\n",
       "      <td>1.704216</td>\n",
       "      <td>6.890774</td>\n",
       "      <td>10.274410</td>\n",
       "    </tr>\n",
       "    <tr>\n",
       "      <th>2</th>\n",
       "      <td>2.916336</td>\n",
       "      <td>9.343863</td>\n",
       "      <td>7.641077</td>\n",
       "      <td>1.012325</td>\n",
       "      <td>1.868486</td>\n",
       "      <td>1.964569</td>\n",
       "      <td>6.774426</td>\n",
       "      <td>9.809732</td>\n",
       "    </tr>\n",
       "    <tr>\n",
       "      <th>3</th>\n",
       "      <td>3.082514</td>\n",
       "      <td>14.203548</td>\n",
       "      <td>10.810137</td>\n",
       "      <td>0.992060</td>\n",
       "      <td>2.228260</td>\n",
       "      <td>2.466440</td>\n",
       "      <td>5.846739</td>\n",
       "      <td>13.081074</td>\n",
       "    </tr>\n",
       "    <tr>\n",
       "      <th>4</th>\n",
       "      <td>4.572392</td>\n",
       "      <td>14.830351</td>\n",
       "      <td>10.150671</td>\n",
       "      <td>1.427889</td>\n",
       "      <td>2.935648</td>\n",
       "      <td>3.037453</td>\n",
       "      <td>7.408619</td>\n",
       "      <td>12.907982</td>\n",
       "    </tr>\n",
       "    <tr>\n",
       "      <th>5</th>\n",
       "      <td>4.727602</td>\n",
       "      <td>17.816782</td>\n",
       "      <td>13.341904</td>\n",
       "      <td>1.634359</td>\n",
       "      <td>2.189398</td>\n",
       "      <td>3.411531</td>\n",
       "      <td>8.600235</td>\n",
       "      <td>16.020060</td>\n",
       "    </tr>\n",
       "    <tr>\n",
       "      <th>6</th>\n",
       "      <td>7.090330</td>\n",
       "      <td>19.863129</td>\n",
       "      <td>15.440702</td>\n",
       "      <td>2.409935</td>\n",
       "      <td>2.684116</td>\n",
       "      <td>4.060984</td>\n",
       "      <td>14.866829</td>\n",
       "      <td>19.793034</td>\n",
       "    </tr>\n",
       "    <tr>\n",
       "      <th>7</th>\n",
       "      <td>10.424137</td>\n",
       "      <td>31.008244</td>\n",
       "      <td>22.910357</td>\n",
       "      <td>3.078699</td>\n",
       "      <td>4.504919</td>\n",
       "      <td>6.034851</td>\n",
       "      <td>18.355370</td>\n",
       "      <td>36.296606</td>\n",
       "    </tr>\n",
       "    <tr>\n",
       "      <th>8</th>\n",
       "      <td>10.917187</td>\n",
       "      <td>36.738396</td>\n",
       "      <td>32.161474</td>\n",
       "      <td>3.438473</td>\n",
       "      <td>5.351067</td>\n",
       "      <td>8.021355</td>\n",
       "      <td>21.998644</td>\n",
       "      <td>32.415390</td>\n",
       "    </tr>\n",
       "    <tr>\n",
       "      <th>9</th>\n",
       "      <td>15.143156</td>\n",
       "      <td>43.850422</td>\n",
       "      <td>31.033754</td>\n",
       "      <td>4.468203</td>\n",
       "      <td>6.288528</td>\n",
       "      <td>7.948399</td>\n",
       "      <td>25.306940</td>\n",
       "      <td>42.842865</td>\n",
       "    </tr>\n",
       "    <tr>\n",
       "      <th>10</th>\n",
       "      <td>19.488335</td>\n",
       "      <td>68.456650</td>\n",
       "      <td>55.242300</td>\n",
       "      <td>6.015301</td>\n",
       "      <td>7.654905</td>\n",
       "      <td>13.309479</td>\n",
       "      <td>33.825636</td>\n",
       "      <td>60.294151</td>\n",
       "    </tr>\n",
       "    <tr>\n",
       "      <th>11</th>\n",
       "      <td>26.035070</td>\n",
       "      <td>84.327936</td>\n",
       "      <td>70.603371</td>\n",
       "      <td>7.105589</td>\n",
       "      <td>10.384798</td>\n",
       "      <td>14.535427</td>\n",
       "      <td>40.532827</td>\n",
       "      <td>75.410604</td>\n",
       "    </tr>\n",
       "    <tr>\n",
       "      <th>12</th>\n",
       "      <td>26.795387</td>\n",
       "      <td>78.077316</td>\n",
       "      <td>53.464413</td>\n",
       "      <td>6.929159</td>\n",
       "      <td>8.454323</td>\n",
       "      <td>15.947580</td>\n",
       "      <td>41.336298</td>\n",
       "      <td>74.916363</td>\n",
       "    </tr>\n",
       "    <tr>\n",
       "      <th>13</th>\n",
       "      <td>33.596754</td>\n",
       "      <td>99.349499</td>\n",
       "      <td>93.913794</td>\n",
       "      <td>9.037971</td>\n",
       "      <td>13.088465</td>\n",
       "      <td>18.311024</td>\n",
       "      <td>49.013615</td>\n",
       "      <td>85.866451</td>\n",
       "    </tr>\n",
       "    <tr>\n",
       "      <th>14</th>\n",
       "      <td>41.234732</td>\n",
       "      <td>118.970394</td>\n",
       "      <td>106.210470</td>\n",
       "      <td>10.335207</td>\n",
       "      <td>14.325619</td>\n",
       "      <td>22.432089</td>\n",
       "      <td>61.279058</td>\n",
       "      <td>114.448071</td>\n",
       "    </tr>\n",
       "    <tr>\n",
       "      <th>15</th>\n",
       "      <td>47.737360</td>\n",
       "      <td>160.157919</td>\n",
       "      <td>120.836258</td>\n",
       "      <td>13.116360</td>\n",
       "      <td>19.313574</td>\n",
       "      <td>28.623104</td>\n",
       "      <td>72.318077</td>\n",
       "      <td>154.558420</td>\n",
       "    </tr>\n",
       "    <tr>\n",
       "      <th>16</th>\n",
       "      <td>62.683582</td>\n",
       "      <td>196.166515</td>\n",
       "      <td>144.930363</td>\n",
       "      <td>16.137123</td>\n",
       "      <td>21.552563</td>\n",
       "      <td>38.159370</td>\n",
       "      <td>106.291056</td>\n",
       "      <td>190.140486</td>\n",
       "    </tr>\n",
       "    <tr>\n",
       "      <th>17</th>\n",
       "      <td>93.198538</td>\n",
       "      <td>223.901749</td>\n",
       "      <td>151.950359</td>\n",
       "      <td>26.388645</td>\n",
       "      <td>24.278879</td>\n",
       "      <td>43.356180</td>\n",
       "      <td>139.571428</td>\n",
       "      <td>222.989559</td>\n",
       "    </tr>\n",
       "    <tr>\n",
       "      <th>18</th>\n",
       "      <td>142.402649</td>\n",
       "      <td>289.334536</td>\n",
       "      <td>191.767693</td>\n",
       "      <td>33.212185</td>\n",
       "      <td>32.436848</td>\n",
       "      <td>56.380272</td>\n",
       "      <td>202.025890</td>\n",
       "      <td>277.879477</td>\n",
       "    </tr>\n",
       "    <tr>\n",
       "      <th>19</th>\n",
       "      <td>144.407511</td>\n",
       "      <td>348.084688</td>\n",
       "      <td>240.995646</td>\n",
       "      <td>34.836769</td>\n",
       "      <td>50.939083</td>\n",
       "      <td>81.540108</td>\n",
       "      <td>202.049732</td>\n",
       "      <td>373.066425</td>\n",
       "    </tr>\n",
       "    <tr>\n",
       "      <th>20</th>\n",
       "      <td>182.841301</td>\n",
       "      <td>430.971384</td>\n",
       "      <td>310.951948</td>\n",
       "      <td>45.771599</td>\n",
       "      <td>52.396297</td>\n",
       "      <td>95.234394</td>\n",
       "      <td>235.415220</td>\n",
       "      <td>432.949066</td>\n",
       "    </tr>\n",
       "    <tr>\n",
       "      <th>21</th>\n",
       "      <td>216.639042</td>\n",
       "      <td>549.263000</td>\n",
       "      <td>376.116037</td>\n",
       "      <td>56.181192</td>\n",
       "      <td>69.530964</td>\n",
       "      <td>126.733541</td>\n",
       "      <td>309.792042</td>\n",
       "      <td>548.168659</td>\n",
       "    </tr>\n",
       "    <tr>\n",
       "      <th>22</th>\n",
       "      <td>293.651342</td>\n",
       "      <td>795.903206</td>\n",
       "      <td>510.886669</td>\n",
       "      <td>88.570595</td>\n",
       "      <td>96.025944</td>\n",
       "      <td>183.980703</td>\n",
       "      <td>434.916496</td>\n",
       "      <td>787.568569</td>\n",
       "    </tr>\n",
       "    <tr>\n",
       "      <th>23</th>\n",
       "      <td>403.825521</td>\n",
       "      <td>1003.343344</td>\n",
       "      <td>831.310034</td>\n",
       "      <td>98.386288</td>\n",
       "      <td>122.201204</td>\n",
       "      <td>221.267223</td>\n",
       "      <td>595.176697</td>\n",
       "      <td>930.621386</td>\n",
       "    </tr>\n",
       "    <tr>\n",
       "      <th>24</th>\n",
       "      <td>435.233355</td>\n",
       "      <td>1242.121935</td>\n",
       "      <td>1217.994928</td>\n",
       "      <td>105.736017</td>\n",
       "      <td>135.850906</td>\n",
       "      <td>260.822058</td>\n",
       "      <td>558.618307</td>\n",
       "      <td>1099.300385</td>\n",
       "    </tr>\n",
       "  </tbody>\n",
       "</table>\n",
       "</div>"
      ],
      "text/plain": [
       "    Moore-Penrose matrix inverse  Optimize.curve_fit      Polyfit  \\\n",
       "0                       6.560087            7.441759     3.938913   \n",
       "1                       2.829552            9.070396     6.407022   \n",
       "2                       2.916336            9.343863     7.641077   \n",
       "3                       3.082514           14.203548    10.810137   \n",
       "4                       4.572392           14.830351    10.150671   \n",
       "5                       4.727602           17.816782    13.341904   \n",
       "6                       7.090330           19.863129    15.440702   \n",
       "7                      10.424137           31.008244    22.910357   \n",
       "8                      10.917187           36.738396    32.161474   \n",
       "9                      15.143156           43.850422    31.033754   \n",
       "10                     19.488335           68.456650    55.242300   \n",
       "11                     26.035070           84.327936    70.603371   \n",
       "12                     26.795387           78.077316    53.464413   \n",
       "13                     33.596754           99.349499    93.913794   \n",
       "14                     41.234732          118.970394   106.210470   \n",
       "15                     47.737360          160.157919   120.836258   \n",
       "16                     62.683582          196.166515   144.930363   \n",
       "17                     93.198538          223.901749   151.950359   \n",
       "18                    142.402649          289.334536   191.767693   \n",
       "19                    144.407511          348.084688   240.995646   \n",
       "20                    182.841301          430.971384   310.951948   \n",
       "21                    216.639042          549.263000   376.116037   \n",
       "22                    293.651342          795.903206   510.886669   \n",
       "23                    403.825521         1003.343344   831.310034   \n",
       "24                    435.233355         1242.121935  1217.994928   \n",
       "\n",
       "    Simple matrix inverse  Stats.lingress  linalg.lstsq  sklearn.linear_model  \\\n",
       "0                0.763893        1.256466      2.277613              4.721880   \n",
       "1                0.836611        1.598358      1.704216              6.890774   \n",
       "2                1.012325        1.868486      1.964569              6.774426   \n",
       "3                0.992060        2.228260      2.466440              5.846739   \n",
       "4                1.427889        2.935648      3.037453              7.408619   \n",
       "5                1.634359        2.189398      3.411531              8.600235   \n",
       "6                2.409935        2.684116      4.060984             14.866829   \n",
       "7                3.078699        4.504919      6.034851             18.355370   \n",
       "8                3.438473        5.351067      8.021355             21.998644   \n",
       "9                4.468203        6.288528      7.948399             25.306940   \n",
       "10               6.015301        7.654905     13.309479             33.825636   \n",
       "11               7.105589       10.384798     14.535427             40.532827   \n",
       "12               6.929159        8.454323     15.947580             41.336298   \n",
       "13               9.037971       13.088465     18.311024             49.013615   \n",
       "14              10.335207       14.325619     22.432089             61.279058   \n",
       "15              13.116360       19.313574     28.623104             72.318077   \n",
       "16              16.137123       21.552563     38.159370            106.291056   \n",
       "17              26.388645       24.278879     43.356180            139.571428   \n",
       "18              33.212185       32.436848     56.380272            202.025890   \n",
       "19              34.836769       50.939083     81.540108            202.049732   \n",
       "20              45.771599       52.396297     95.234394            235.415220   \n",
       "21              56.181192       69.530964    126.733541            309.792042   \n",
       "22              88.570595       96.025944    183.980703            434.916496   \n",
       "23              98.386288      122.201204    221.267223            595.176697   \n",
       "24             105.736017      135.850906    260.822058            558.618307   \n",
       "\n",
       "    statsmodels.OLS  \n",
       "0          8.647203  \n",
       "1         10.274410  \n",
       "2          9.809732  \n",
       "3         13.081074  \n",
       "4         12.907982  \n",
       "5         16.020060  \n",
       "6         19.793034  \n",
       "7         36.296606  \n",
       "8         32.415390  \n",
       "9         42.842865  \n",
       "10        60.294151  \n",
       "11        75.410604  \n",
       "12        74.916363  \n",
       "13        85.866451  \n",
       "14       114.448071  \n",
       "15       154.558420  \n",
       "16       190.140486  \n",
       "17       222.989559  \n",
       "18       277.879477  \n",
       "19       373.066425  \n",
       "20       432.949066  \n",
       "21       548.168659  \n",
       "22       787.568569  \n",
       "23       930.621386  \n",
       "24      1099.300385  "
      ]
     },
     "execution_count": 30,
     "metadata": {},
     "output_type": "execute_result"
    }
   ],
   "source": [
    "df = pd.DataFrame(data=time_dict)\n",
    "df"
   ]
  },
  {
   "cell_type": "code",
   "execution_count": 31,
   "metadata": {},
   "outputs": [
    {
     "data": {
      "text/plain": [
       "<matplotlib.legend.Legend at 0x7fd95494fa20>"
      ]
     },
     "execution_count": 31,
     "metadata": {},
     "output_type": "execute_result"
    },
    {
     "data": {
      "image/png": "[encoded data removed]",
      "text/plain": [
       "<matplotlib.figure.Figure at 0x7fd9522554a8>"
      ]
     },
     "metadata": {},
     "output_type": "display_data"
    }
   ],
   "source": [
    "plt.figure(figsize=(15,10))\n",
    "for i in df.columns:\n",
    "    plt.semilogx((n_data),df[i],lw=3)\n",
    "plt.xticks([1e5,2e5,5e5,1e6,2e6,5e6,1e7],fontsize=15)\n",
    "plt.xlabel(\"\\nSize of the data set (number of samples)\",fontsize=15)\n",
    "plt.yticks(fontsize=15)\n",
    "plt.ylabel(\"Milliseconds needed for simple linear regression model fit\\n\",fontsize=15)\n",
    "plt.grid(True)\n",
    "plt.legend([name for name in df.columns],fontsize=20)"
   ]
  },
  {
   "cell_type": "code",
   "execution_count": 32,
   "metadata": {},
   "outputs": [],
   "source": [
    "a1=df.iloc[n_levels-1]"
   ]
  },
  {
   "cell_type": "code",
   "execution_count": 33,
   "metadata": {},
   "outputs": [
    {
     "name": "stderr",
     "output_type": "stream",
     "text": [
      "/home/ahmed/anaconda3/lib/python3.6/site-packages/matplotlib/__init__.py:1717: MatplotlibDeprecationWarning: The *left* kwarg to `bar` is deprecated use *x* instead. Support for *left* will be removed in Matplotlib 3.0\n",
      "  return func(ax, *args, **kwargs)\n"
     ]
    },
    {
     "data": {
      "image/png": "[encoded data removed]",
      "text/plain": [
       "<matplotlib.figure.Figure at 0x7fd954f36a90>"
      ]
     },
     "metadata": {},
     "output_type": "display_data"
    }
   ],
   "source": [
    "plt.figure(figsize=(20,5))\n",
    "plt.grid(True)\n",
    "plt.bar(left=[l*0.8 for l in range(8)],height=a1, width=0.4,\n",
    "        tick_label=list(a1.index))\n",
    "plt.show()"
   ]
  },
  {
   "cell_type": "code",
   "execution_count": null,
   "metadata": {},
   "outputs": [],
   "source": []
  },
  {
   "cell_type": "code",
   "execution_count": null,
   "metadata": {},
   "outputs": [],
   "source": []
  }
 ],
 "metadata": {
  "kernelspec": {
   "display_name": "Python 3",
   "language": "python",
   "name": "python3"
  },
  "language_info": {
   "codemirror_mode": {
    "name": "ipython",
    "version": 3
   },
   "file_extension": ".py",
   "mimetype": "text/x-python",
   "name": "python",
   "nbconvert_exporter": "python",
   "pygments_lexer": "ipython3",
   "version": "3.6.4"
  }
 },
 "nbformat": 4,
 "nbformat_minor": 2
}
