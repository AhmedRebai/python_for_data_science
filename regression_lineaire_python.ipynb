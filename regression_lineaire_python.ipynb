{
 "cells": [
  {
   "cell_type": "markdown",
   "metadata": {},
   "source": [
    "# Régression linéaire avec Python\n",
    "\n",
    "\n",
    "## Modélisation des données\n",
    "\n",
    "### Introduction \n",
    "\n",
    "Étant donné un ensemble d'observations (des données \"data\"), on veut souvent condenser et résumer les données en l'adaptant à un modèle qui dépend de paramètres ajustables. Parfois, le modèle est simplement une fonction usuelle (un polynôme, une gaussienne...), et l'ajustement fournit les coefficients appropriés.\n",
    "\n",
    "\n",
    "Une approche très générale a le paradigme suivant: on choisit ou on conçoit une fonction objectif (une fonction coût, une fonction de mérite) qui mesure l'accord entre les données et le modèle avec un choix particulier de paramètres. \n",
    "\n",
    "\n",
    "En statistiques fréquentistes, la fonction objectif est classiquement organisée de telle sorte que les petites valeurs représentent un accord étroit avec les données. Les bayésiens choisissent comme fonction objectif la probabilité des paramètres sachant les données (ou souvent leur logarithme), de sorte que des grandes valeurs de cette probabilité représentent un accord plus étroit avec les données.\n",
    "\n",
    "\n",
    "- Dans les deux approches, les paramètres du modèle sont ensuite ajustés pour trouver un le meilleur extremum dans la fonction objectif, produisant les paramètres les mieux adaptés. Ainsi, le processus d'ajustement se formule sous la forme d'un problème d'optimisation (minimisation ou maximisation) en plusieurs dimensions.\n",
    "\n",
    "\n",
    "Notons bien que la détermination des meilleurs paramètres ne marque pas la fin du processus d'ajustement car il y a des questions importantes qui vont au-delà de cette détermination. Les données ne sont généralement pas exactes, elles sont sujets à des erreurs de mesure (appelées bruit comme dans le contexte du traitement du signal). Ainsi, les données typiques ne corrspondent jamais exactement au modèle utilisé, même si ce modèle est correct. Alors nous avons besoin de moyens pour évaluer si le modèle est approprié ou non, c'est-à-dire que nous devons tester la qualité de l'ajustement avec les tests statistiques. Il est alors nécessaire de connaître la précision des paramètres déterminés à partir des données. \n",
    "\n",
    "Les fréquentistes cherchent à connaître les erreurs sur les paramètres optimaux. Les Bayésiens veulent trouver non seulement le maximum de la distribution de probabilités des paramètres mais aussi la distribution complète.\n",
    "\n",
    "\n",
    "### Approche fréquentiste ou bayésienne\n",
    "\n",
    "D'une manière générale, l'observation expérimentale consiste à collecter des données pour tester la validité d'une théorie ou d'une hypothèse qui se basent sur un modèle analytique dépendant de plusieurs paramètres. Pour ce faire, un estimateur est construit qui mesure l'accord entre les données et le modèle. \n",
    "\n",
    "L'approche est dénomée 'fréquentiste' si cet estimateur est construit de telle façon que son minimum global représente l'accord parfait, c'est-à-dire la solution recherchée avec une certaine erreur. Elle est nommée 'bayésienne' si l'estimateur représente une probabilité des paramètres pour lesquels son maximum global représente l'accord parfait, c'est-à-dire la solution avec une certaine probabilité. Par exemple \n",
    "\n",
    "\n",
    "\n",
    "\n",
    "\n"
   ]
  }
 ],
 "metadata": {
  "kernelspec": {
   "display_name": "Python 3",
   "language": "python",
   "name": "python3"
  },
  "language_info": {
   "codemirror_mode": {
    "name": "ipython",
    "version": 3
   },
   "file_extension": ".py",
   "mimetype": "text/x-python",
   "name": "python",
   "nbconvert_exporter": "python",
   "pygments_lexer": "ipython3",
   "version": "3.6.4"
  }
 },
 "nbformat": 4,
 "nbformat_minor": 2
}
