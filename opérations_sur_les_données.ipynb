{
 "cells": [
  {
   "cell_type": "markdown",
   "metadata": {},
   "source": [
    "# Opérations sur les données (en recherche et développement)\n",
    "\n",
    "## Introduction \n",
    "\n",
    "Python permet de gérer différents formats de données à travers Numpy et Pandas. \n",
    "\n",
    "Dans ce qui suit, nous présentons quelques exemples d'application sur les données issus de chacune des modules.\n",
    "\n",
    "## Opérations sur les données avec Numpy\n",
    "\n",
    "Pour manipuler des données numériques, le module Numpy utilise des tableaux à N dimensions (ndarray). Un tableau ndarray permet de:\n",
    "\n",
    "- décrire la collection d'objets du même type.\n",
    "- faciliter l'accès aux éléments de la collection en utilisant un indice.\n",
    "- instancier des objets de la classe ndarray\n",
    "\n",
    "\n",
    "*** Question ***\n",
    "Comment construire un tableau ndarray?\n",
    "\n",
    "*** Réponse ***\n",
    "La méthode la plus consiste à utiliser le constructeur de plus bas niveau ndarray."
   ]
  },
  {
   "cell_type": "code",
   "execution_count": 1,
   "metadata": {},
   "outputs": [
    {
     "name": "stdout",
     "output_type": "stream",
     "text": [
      "<class 'numpy.ndarray'>\n"
     ]
    }
   ],
   "source": [
    "# On charge le module numpy\n",
    "import numpy as np\n",
    "\n",
    "# On crée un tableau (une matrice)\n",
    "t = np.array([[1, 2, 3], [4, 5, 6]])\n",
    "print(type(t))"
   ]
  },
  {
   "cell_type": "code",
   "execution_count": 2,
   "metadata": {},
   "outputs": [
    {
     "name": "stdout",
     "output_type": "stream",
     "text": [
      "(2, 3)\n"
     ]
    }
   ],
   "source": [
    "print(t.shape)"
   ]
  },
  {
   "cell_type": "code",
   "execution_count": 3,
   "metadata": {},
   "outputs": [
    {
     "data": {
      "text/plain": [
       "dtype('int64')"
      ]
     },
     "execution_count": 3,
     "metadata": {},
     "output_type": "execute_result"
    }
   ],
   "source": [
    "# Par défaut, on code sur 64 bits\n",
    "t.dtype"
   ]
  },
  {
   "cell_type": "code",
   "execution_count": 4,
   "metadata": {},
   "outputs": [
    {
     "name": "stdout",
     "output_type": "stream",
     "text": [
      "int32\n"
     ]
    }
   ],
   "source": [
    "# Si on veut coder sur 32 bits\n",
    "t = np.array([[1, 2, 3], [4, 5, 6]], np.int32)\n",
    "print(t.dtype)"
   ]
  },
  {
   "cell_type": "code",
   "execution_count": 5,
   "metadata": {},
   "outputs": [
    {
     "data": {
      "text/plain": [
       "\"\\nPour connaître toutes les méthodes opérant sur \\nle tableau t, il suffit d'écrire \\ndir(t)\\n\""
      ]
     },
     "execution_count": 5,
     "metadata": {},
     "output_type": "execute_result"
    }
   ],
   "source": [
    "\"\"\"\n",
    "Pour connaître toutes les méthodes opérant sur \n",
    "le tableau t, il suffit d'écrire \n",
    "dir(t)\n",
    "\"\"\""
   ]
  },
  {
   "cell_type": "markdown",
   "metadata": {},
   "source": [
    "- Notons bien que il en existe plusieurs méthodes et fonctions utilisées pour créer un tableau. Elles sont synthetisées sur ce lien https://docs.scipy.org/doc/numpy-1.13.0/reference/routines.array-creation.html#routines-array-creation"
   ]
  },
  {
   "cell_type": "code",
   "execution_count": 6,
   "metadata": {},
   "outputs": [
    {
     "name": "stdout",
     "output_type": "stream",
     "text": [
      "(5, 5)\n",
      "<class 'tuple'>\n"
     ]
    }
   ],
   "source": [
    "# on initialise une matrice nulle\n",
    "A = np.zeros((5,5))\n",
    "\n",
    "# On veut connaitre la forme de cette matrice\n",
    "print(A.shape)\n",
    "print(type(A.shape))\n",
    "# Attention A.shape est un tuple donc on peut \n",
    "# accéder à ces éléments"
   ]
  },
  {
   "cell_type": "code",
   "execution_count": 7,
   "metadata": {},
   "outputs": [
    {
     "name": "stdout",
     "output_type": "stream",
     "text": [
      "[[   0.    0. 1000.    0.    0.]\n",
      " [   0.    0.    0.    0.    0.]\n",
      " [   0.    0.    0.    0.    0.]\n",
      " [   0.    0.    0.    0.    0.]\n",
      " [   0.    0.    0.    0.    0.]]\n"
     ]
    }
   ],
   "source": [
    "# Pour changer la valeur d'un élément de A\n",
    "A[0,2] = 1000.\n",
    "print(A)"
   ]
  },
  {
   "cell_type": "code",
   "execution_count": 8,
   "metadata": {},
   "outputs": [
    {
     "name": "stdout",
     "output_type": "stream",
     "text": [
      "[[8.81073753e-01 0.00000000e+00 1.00000000e+03 0.00000000e+00\n",
      "  0.00000000e+00]\n",
      " [0.00000000e+00 9.25936295e-01 0.00000000e+00 0.00000000e+00\n",
      "  0.00000000e+00]\n",
      " [0.00000000e+00 0.00000000e+00 4.59241871e-01 0.00000000e+00\n",
      "  0.00000000e+00]\n",
      " [0.00000000e+00 0.00000000e+00 0.00000000e+00 1.00612844e-01\n",
      "  0.00000000e+00]\n",
      " [0.00000000e+00 0.00000000e+00 0.00000000e+00 0.00000000e+00\n",
      "  6.54886471e-01]]\n"
     ]
    }
   ],
   "source": [
    "# Pour remplir la diagonale de A par des\n",
    "# valeurs aléatoires\n",
    "\n",
    "for i in range(A.shape[0]):\n",
    "    A[i,i] = np.random.rand()\n",
    "\n",
    "print(A)"
   ]
  },
  {
   "cell_type": "code",
   "execution_count": 9,
   "metadata": {},
   "outputs": [
    {
     "name": "stdout",
     "output_type": "stream",
     "text": [
      "[1.+0.j 2.+0.j 3.+0.j]\n"
     ]
    }
   ],
   "source": [
    "# Remplir un tableau avec des complexes\n",
    "t = np.array([1, 2, 3], dtype = complex) \n",
    "print(t)"
   ]
  },
  {
   "cell_type": "markdown",
   "metadata": {},
   "source": [
    "## Opérations sur les données avec Pandas\n",
    "\n",
    "Le module Pandas gère les données avec des DataFrame, des Series et des Panels.\n",
    "\n",
    "### Les Séries (Series)\n",
    "\n",
    "Une série est un tableau étiqueté unidimensionnel capable de contenir des données de tout type (entier, chaîne, flottant, objets python, etc.). Les étiquettes d'axe sont collectivement appelées indice (index).\n",
    "\n",
    "*** Comment créer une série à partir d'un tabelau numpy (ndarray) ? ***\n",
    "\n",
    "*** Réponse ***"
   ]
  },
  {
   "cell_type": "code",
   "execution_count": 10,
   "metadata": {},
   "outputs": [
    {
     "name": "stdout",
     "output_type": "stream",
     "text": [
      "<class 'pandas.core.series.Series'>\n",
      "0      bob\n",
      "1    karim\n",
      "2    chloe\n",
      "3    david\n",
      "dtype: object\n"
     ]
    }
   ],
   "source": [
    "# On charge le module pandas\n",
    "import pandas as pd\n",
    "\n",
    "\n",
    "data = np.array(['bob','karim','chloe','david'])\n",
    "s = pd.Series(data)\n",
    "print(type(s))\n",
    "print(s)\n",
    "\n",
    "\n",
    "\n",
    "# Je vous laisse le plaisir\n",
    "# de voir l'ensemble de méthodes\n",
    "# opérant sur l'objet s\n",
    "\n",
    "# dir(s)"
   ]
  },
  {
   "cell_type": "markdown",
   "metadata": {},
   "source": [
    "### DataFrame de Pandas\n",
    "\n",
    "Un DataFrame (trame de données) est une structure de données bidimensionnelle, donc les données sont alignées de manière tabulaire en lignes et en colonnes.\n",
    "\n"
   ]
  },
  {
   "cell_type": "code",
   "execution_count": 11,
   "metadata": {},
   "outputs": [
    {
     "name": "stdout",
     "output_type": "stream",
     "text": [
      "       Age   Name\n",
      "rang1   28    Tom\n",
      "rang2   34   Jack\n",
      "rang3   29  Steve\n",
      "rang4   42  Ricky\n"
     ]
    }
   ],
   "source": [
    "# On charge le module pandas\n",
    "import pandas as pd\n",
    "\n",
    "\n",
    "data = {'Name':['Tom', 'Jack', 'Steve', 'Ricky'],'Age':[28,34,29,42]}\n",
    "df = pd.DataFrame(data, index=['rang1','rang2','rang3','rang4'])\n",
    "print(df)"
   ]
  },
  {
   "cell_type": "code",
   "execution_count": null,
   "metadata": {},
   "outputs": [],
   "source": []
  },
  {
   "cell_type": "code",
   "execution_count": null,
   "metadata": {},
   "outputs": [],
   "source": []
  },
  {
   "cell_type": "code",
   "execution_count": null,
   "metadata": {},
   "outputs": [],
   "source": []
  },
  {
   "cell_type": "code",
   "execution_count": null,
   "metadata": {},
   "outputs": [],
   "source": []
  },
  {
   "cell_type": "code",
   "execution_count": null,
   "metadata": {},
   "outputs": [],
   "source": []
  },
  {
   "cell_type": "code",
   "execution_count": null,
   "metadata": {},
   "outputs": [],
   "source": []
  },
  {
   "cell_type": "code",
   "execution_count": null,
   "metadata": {},
   "outputs": [],
   "source": []
  },
  {
   "cell_type": "code",
   "execution_count": null,
   "metadata": {},
   "outputs": [],
   "source": []
  },
  {
   "cell_type": "code",
   "execution_count": null,
   "metadata": {},
   "outputs": [],
   "source": []
  }
 ],
 "metadata": {
  "kernelspec": {
   "display_name": "Python 3",
   "language": "python",
   "name": "python3"
  },
  "language_info": {
   "codemirror_mode": {
    "name": "ipython",
    "version": 3
   },
   "file_extension": ".py",
   "mimetype": "text/x-python",
   "name": "python",
   "nbconvert_exporter": "python",
   "pygments_lexer": "ipython3",
   "version": "3.6.4"
  }
 },
 "nbformat": 4,
 "nbformat_minor": 2
}
