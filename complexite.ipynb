{
 "cells": [
  {
   "cell_type": "markdown",
   "metadata": {},
   "source": [
    "# Notion de complexité \n",
    "\n",
    "##### Auteur: Ahmed A. REBAI\n",
    "##### ESPRIT Engineering School\n",
    "\n",
    "## Définition et exemple\n",
    "\n",
    "La complexité d'un problème mathématique P est la quantité de ressources nécessaires à la résolution de P.\n",
    "\n",
    "On s'intéresse alors à la complexité temporelle. Le temps est mesuré en informatique théorique par le nombre d'étapes de calcul (plus exactement le nombre d'étapes de calcul élémentaire donc ce sont ces étapes qui sont élémentaires).\n",
    "On essaye de savoir combien il faut d'étapes élémentaires pour résourdre le problème.\n",
    "\n",
    "Un problème peut être résolu avec plusieurs manières: Il existe donc plusieurs algorithmes qui permettent de résoudre ce problème. \n",
    "\n",
    "Imaginons qu'il existe n algorithmes A1, A2,..., An permettant de résoudre P. Ainsi C(P) = min(C(Ai))\n",
    "Ce qui nous pousse à définir la complexité dans deux situations : \n",
    "- le plus pire des cas\n",
    "- le meilleur des cas\n",
    "\n",
    "Exemple:\n",
    "Soit le problème suivant, chercher un élément dans une liste L. On retourne donc True si x appartient à L et et False sinon."
   ]
  },
  {
   "cell_type": "code",
   "execution_count": 1,
   "metadata": {},
   "outputs": [
    {
     "name": "stdout",
     "output_type": "stream",
     "text": [
      "True\n",
      "False\n"
     ]
    }
   ],
   "source": [
    "# Le premier algorithme permettant de chercher un élément dans une liste\n",
    "# Implémentation de l'algorithme avec une fonction Python\n",
    "def chercher1(x,L):\n",
    "    i = 0            # complexité de 1\n",
    "    # la fonction longueur (qui calcule la taille) n'est pas élémentaire:\n",
    "    # complexité de n\n",
    "    while(i<len(L)): \n",
    "        if(x==L[i]): # complexité de 1\n",
    "            return True\n",
    "        else:\n",
    "            i = i+1 # complexité de 1\n",
    "    return False\n",
    "\n",
    "# Vérification de la fonction sur une liste et un élémént\n",
    "L = [11,14,1,13,123]\n",
    "print(chercher1(1,L))\n",
    "print(chercher1(10,L))"
   ]
  },
  {
   "cell_type": "markdown",
   "metadata": {},
   "source": [
    "On note $C_1$ la complexité de la fonction chercher1 \n",
    "\\begin{equation}\n",
    "C_1(n) = 1 + (1 + 1 + n) * n = n^2 + 2n + 1 = O_{+\\infty}(n^2) \n",
    "\\end{equation}\n",
    "\n",
    "C'est une complexité parabolique: il suffit de multiplier la taille de la liste par 10 pour multiplier le temps d'exécution par 100."
   ]
  },
  {
   "cell_type": "code",
   "execution_count": 2,
   "metadata": {},
   "outputs": [
    {
     "data": {
      "text/plain": [
       "[<matplotlib.lines.Line2D at 0x7f744c3dbbe0>]"
      ]
     },
     "execution_count": 2,
     "metadata": {},
     "output_type": "execute_result"
    },
    {
     "data": {
      "image/png": "[encoded data removed]",
      "text/plain": [
       "<matplotlib.figure.Figure at 0x7f744fa5f400>"
      ]
     },
     "metadata": {},
     "output_type": "display_data"
    }
   ],
   "source": [
    "import matplotlib.pyplot as plt\n",
    "%matplotlib inline\n",
    "\n",
    "def f(x):\n",
    "    return x*x\n",
    "\n",
    "N = 10000\n",
    "X = [i for i in range(N)]\n",
    "Y = [None]*N\n",
    "for i in range(N):\n",
    "    Y[i] = f(X[i])\n",
    "plt.plot(X,Y)"
   ]
  },
  {
   "cell_type": "markdown",
   "metadata": {},
   "source": [
    "On remarque que l'évaluation de la longueur de la liste dans la condition de la boucle while implique l'existence de $n^2$. Une solution consiste à évaluer la longueur de L une seule fois. Ce qui donne donc le deuxième algorithme:"
   ]
  },
  {
   "cell_type": "code",
   "execution_count": 3,
   "metadata": {},
   "outputs": [
    {
     "name": "stdout",
     "output_type": "stream",
     "text": [
      "True\n",
      "False\n"
     ]
    }
   ],
   "source": [
    "def chercher2(x,L):\n",
    "    n = len(L)         # complexité de n \n",
    "    for i in range(n): # On répéte le calcul n fois (complexité = n)\n",
    "        if x == L[i]:  # complexité de 1\n",
    "            return True\n",
    "    return False\n",
    "\n",
    "# Vérification de la fonction chercher2 sur une liste et un élément\n",
    "L = [11,14,1,13,123]\n",
    "print(chercher2(1,L))\n",
    "print(chercher2(10,L))"
   ]
  },
  {
   "cell_type": "markdown",
   "metadata": {},
   "source": [
    "On note $C_2$ la complexité de la fonction chercher2 \n",
    "\\begin{equation}\n",
    "C_2(n) = n + n = 2*n = O_{+\\infty}(n) \n",
    "\\end{equation}\n",
    "\n",
    "C'est une complexité linéaire: il suffit de multiplier la taille de la liste par 10 pour multiplier le temps d'exécution par 10."
   ]
  },
  {
   "cell_type": "code",
   "execution_count": 4,
   "metadata": {},
   "outputs": [
    {
     "data": {
      "text/plain": [
       "[<matplotlib.lines.Line2D at 0x7f744f75d080>]"
      ]
     },
     "execution_count": 4,
     "metadata": {},
     "output_type": "execute_result"
    },
    {
     "data": {
      "image/png": "[encoded data removed]",
      "text/plain": [
       "<matplotlib.figure.Figure at 0x7f744c3fd668>"
      ]
     },
     "metadata": {},
     "output_type": "display_data"
    }
   ],
   "source": [
    "def f(x):\n",
    "    return x\n",
    "\n",
    "N = 10000\n",
    "X = [i for i in range(N)]\n",
    "Y = [None]*N\n",
    "for i in range(N):\n",
    "    Y[i] = f(X[i])\n",
    "plt.plot(X,Y)"
   ]
  },
  {
   "cell_type": "markdown",
   "metadata": {},
   "source": [
    "Passons maintenant à un troisième algorithme utilisant le paradigme \"diviser pour régner\" couplé à la récursivité!\n",
    "On suppose que la liste est triée de manière croissante.\n",
    "\n",
    "Pour traiter un problème de taile N, il est parfois efficace de :\n",
    "- partager le problème en k sous-problèmes de taille $\\lfloor N/2 \\rfloor$ ou $\\lceil N/2 \\rceil$ ($k \\in \\mathbb{N^*}$)\n",
    "- résoudre les k problèmes ainsi obtenus (souvent récursivement...)\n",
    "- fusionner les résultats ainsi obtenus pour fournir la solution"
   ]
  },
  {
   "cell_type": "code",
   "execution_count": 5,
   "metadata": {},
   "outputs": [
    {
     "name": "stdout",
     "output_type": "stream",
     "text": [
      "True\n",
      "False\n"
     ]
    }
   ],
   "source": [
    "def chercher3(x, L):\n",
    "    if len(L)==1 :\n",
    "        return False\n",
    "    m = len(L)//2\n",
    "    if L[m] == x :\n",
    "        return True\n",
    "    elif L[m] > x:\n",
    "        return chercher3(x, L[:m])\n",
    "    else:\n",
    "        return chercher3(x, L[m:])\n",
    "\n",
    "# Vérification de la fonction chercher2 sur une liste et un élément\n",
    "L = [11,14,1,13,123]\n",
    "print(chercher3(1,L))\n",
    "print(chercher3(10,L))"
   ]
  },
  {
   "cell_type": "markdown",
   "metadata": {},
   "source": [
    "Attention aux commandes Python du genre chercher3(x,L[:m]) qui semblent fournir une version récursive, mais contenant un coût caché linéaire (avec L[:m] Python doit recopier les valeurs de la sous liste considérée. Alors on ne peut pas annoncer une complexité logarithmique. "
   ]
  },
  {
   "cell_type": "code",
   "execution_count": 6,
   "metadata": {
    "collapsed": true
   },
   "outputs": [],
   "source": [
    "def cherche3rec(x,t):\n",
    "    #fonction auxiliaire récursive\n",
    "    def Listedivisee(i,j):\n",
    "        if i==j-1:\n",
    "            return t[i]==x\n",
    "        else:\n",
    "            m=(i+j)//2\n",
    "            if t[m]<=x:\n",
    "                return Listedivisee(m,j)\n",
    "            else:\n",
    "                return Listedivisee(i,m)\n",
    "            #fonction principale triviale\n",
    "            #qui permet d'évoluer la fonction\n",
    "            #récursive \n",
    "    return Listedivisee(0,len(t))"
   ]
  },
  {
   "cell_type": "markdown",
   "metadata": {},
   "source": [
    "Cet algorithme utilise deux paradigmes:\n",
    "- diviser pour régner \n",
    "- la récursivité\n",
    "\n",
    "Donc la complexité $C_3(n)=O(log(n))$"
   ]
  },
  {
   "cell_type": "code",
   "execution_count": 7,
   "metadata": {},
   "outputs": [
    {
     "data": {
      "text/plain": [
       "[<matplotlib.lines.Line2D at 0x7f744be7c0f0>,\n",
       " <matplotlib.lines.Line2D at 0x7f744be7c278>,\n",
       " <matplotlib.lines.Line2D at 0x7f744be7cbe0>,\n",
       " <matplotlib.lines.Line2D at 0x7f744be92400>]"
      ]
     },
     "execution_count": 7,
     "metadata": {},
     "output_type": "execute_result"
    },
    {
     "data": {
      "image/png": "[encoded data removed]",
      "text/plain": [
       "<matplotlib.figure.Figure at 0x7f744c40e1d0>"
      ]
     },
     "metadata": {},
     "output_type": "display_data"
    }
   ],
   "source": [
    "# Ce code permet de représenter les différents temps d'exécution \n",
    "#de 4 algorithmes présenté ci-dessous:\n",
    "import matplotlib.pyplot as plt\n",
    "import time\n",
    "import random\n",
    "\n",
    "T1=[]\n",
    "T2=[]\n",
    "T3=[]\n",
    "T4=[]\n",
    "\n",
    "N = [10,100,500,1000,10000,100000,200000,300000]\n",
    "for n in N:\n",
    "    L = [None]*n\n",
    "\n",
    "    for i in range(n):\n",
    "        L[i] = random.randint(1,n)\n",
    "\n",
    "\n",
    "    x = L[random.randint(1,n)]\n",
    "\n",
    "    start_time = time.time()\n",
    "    chercher1(x,L)\n",
    "    T1.append(time.time() - start_time)\n",
    "    #print(\"--- %s secondes pour le 1er algorithme ---\" % (time.time() - start_time))\n",
    "    \n",
    "    start_time = time.time()\n",
    "    chercher2(x,L)\n",
    "    T2.append(time.time() - start_time)\n",
    "    #print(\"--- %s secondes pour le 2eme algorithme ---\" % (time.time() - start_time))\n",
    "\n",
    "    start_time = time.time()\n",
    "    L.sort()\n",
    "    chercher3(x,L)\n",
    "    T3.append(time.time() - start_time)\n",
    "    #print(\"--- %s secondes pour le 3eme algorithme ---\" % (time.time() - start_time))\n",
    "\n",
    "    start_time = time.time()\n",
    "    L.sort()\n",
    "    cherche3rec(x,L)\n",
    "    T4.append(time.time() - start_time)\n",
    "    #print(\"--- %s secondes pour le 4eme algorithme ---\" % (time.time() - start_time))\n",
    "\n",
    "plt.plot(N,T1,'+',N,T2,'o',N,T3,'s',N,T4,'*')"
   ]
  },
  {
   "cell_type": "markdown",
   "metadata": {},
   "source": [
    "#### La figure précédente montre des résultats contre-intuitifs à nos de la complexité. En effet, nous avons représenté le temps d'exécution de chaque algorithme en fonction de la taille de la liste. "
   ]
  },
  {
   "cell_type": "code",
   "execution_count": 8,
   "metadata": {
    "collapsed": true
   },
   "outputs": [],
   "source": [
    "# Quelques implémentations de l'algorithme de recherche d'un élément \n",
    "# dans une liste\n",
    "\n",
    "# Version récursive\n",
    "def Cherche3rec(x,t):\n",
    "    #fonction auxiliaire récursive\n",
    "    def Listedivisee(i,j):\n",
    "        if i==j-1:\n",
    "            return t[i]==x\n",
    "        else:\n",
    "            m=(i+j)//2\n",
    "            if t[m]<=x:\n",
    "                return Listedivisee(m,j)\n",
    "            else:\n",
    "                return Listedivisee(i,m)\n",
    "            #fonction principale triviale\n",
    "            #qui permet d'évoluer la fonction\n",
    "            #récursive \n",
    "    return Listedivisee(0,len(t))\n",
    "\n",
    "# Version itérative\n",
    "def chercher3iter(x,t):\n",
    "    i=0\n",
    "    j=len(t)\n",
    "    while i<j-1:\n",
    "        m=(i+j)//2\n",
    "        if t[m]<=x:\n",
    "            i=m\n",
    "        else:\n",
    "            j=m\n",
    "    return t[i]==x"
   ]
  }
 ],
 "metadata": {
  "kernelspec": {
   "display_name": "Python 3",
   "language": "python",
   "name": "python3"
  },
  "language_info": {
   "codemirror_mode": {
    "name": "ipython",
    "version": 3
   },
   "file_extension": ".py",
   "mimetype": "text/x-python",
   "name": "python",
   "nbconvert_exporter": "python",
   "pygments_lexer": "ipython3",
   "version": "3.6.1"
  }
 },
 "nbformat": 4,
 "nbformat_minor": 2
}
